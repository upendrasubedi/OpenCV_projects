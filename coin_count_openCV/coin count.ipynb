{
 "cells": [
  {
   "cell_type": "code",
   "execution_count": null,
   "metadata": {},
   "outputs": [],
   "source": [
    "import cv2\n",
    "import numpy as np\n",
    "\n",
    "coins = cv2.imread(\"coins.jpg\") # picture of coins\n",
    "gray = cv2.cvtColor(coins, cv2.COLOR_BGR2GRAY) #converting image to grayscale\n",
    "img = cv2.medianBlur(gray, 5) #blur image\n",
    "\n",
    "circles = cv2.HoughCircles(img, cv2.HOUGH_GRADIENT, 1, 120, param1=100, param2=30, minRadius=0, maxRadius=100) # circle detection algorithm\n",
    "circles = np.uint16(np.around(circles))\n",
    "count = 0 # counter for coins\n",
    "for (x,y,r) in circles[0, :]:\n",
    "    count +=1\n",
    "    cv2.circle(coins, (x, y), r, (0, 255, 0),2) # drawing circles over coins\n",
    "\n",
    "text = 'the number of coins is :'+str(count)\n",
    "\n",
    "cv2.putText(coins,text, (10,50), cv2.FONT_ITALIC, 2, (0,255,0),2) # writing text over the image\n",
    "cv2.imshow(\"coins\", coins)\n",
    "cv2.waitKey(0)\n",
    "cv2.destroyAllWindows()"
   ]
  },
  {
   "cell_type": "code",
   "execution_count": null,
   "metadata": {},
   "outputs": [],
   "source": [
    "\n"
   ]
  },
  {
   "cell_type": "code",
   "execution_count": null,
   "metadata": {},
   "outputs": [],
   "source": []
  },
  {
   "cell_type": "code",
   "execution_count": null,
   "metadata": {},
   "outputs": [],
   "source": []
  },
  {
   "cell_type": "code",
   "execution_count": null,
   "metadata": {},
   "outputs": [],
   "source": []
  }
 ],
 "metadata": {
  "kernelspec": {
   "display_name": "Python 3",
   "language": "python",
   "name": "python3"
  },
  "language_info": {
   "codemirror_mode": {
    "name": "ipython",
    "version": 3
   },
   "file_extension": ".py",
   "mimetype": "text/x-python",
   "name": "python",
   "nbconvert_exporter": "python",
   "pygments_lexer": "ipython3",
   "version": "3.6.4"
  }
 },
 "nbformat": 4,
 "nbformat_minor": 2
}
