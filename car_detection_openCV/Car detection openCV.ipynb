{
 "cells": [
  {
   "cell_type": "code",
   "execution_count": 3,
   "metadata": {},
   "outputs": [],
   "source": [
    "import cv2 #importing opencv\n",
    "\n",
    "cascade_cars = 'cars.xml' #trained model object declaration\n",
    "car_video = cv2.VideoCapture('video1.avi')  #loading video\n",
    "car_cascade = cv2.CascadeClassifier(cascade_cars) #object of classifier for cars\n",
    "\n",
    "\n",
    "while True:\n",
    "    ret, img = car_video.read()\n",
    "    \n",
    "    if (type(img) == type(None)): # exit when no frames left\n",
    "        break\n",
    "    \n",
    "    gray = cv2.cvtColor(img, cv2.COLOR_BGR2GRAY) #convert image to greyscale\n",
    "    \n",
    "    cars = car_cascade.detectMultiScale(gray, 1.1, 2) #car detection\n",
    "\n",
    "\n",
    "    for (x,y,w,h) in cars: # x,y,w,h = length, breadth, width, height\n",
    "        cv2.rectangle(img,(x,y),(x+w,y+h),(0,255,125),3)  # parameters: image name, start_point, end_point, color, thickness\n",
    "    \n",
    "    cv2.imshow('Car detection', img) # showing image by image\n",
    "    if cv2.waitKey(40)==27:  # 40ms pause for each image of video and exit when ESC (ASCII=27) pressed\n",
    "        break\n",
    "        \n",
    "cv2.destroyAllWindows() # closing video window"
   ]
  },
  {
   "cell_type": "code",
   "execution_count": null,
   "metadata": {},
   "outputs": [],
   "source": []
  },
  {
   "cell_type": "code",
   "execution_count": null,
   "metadata": {},
   "outputs": [],
   "source": []
  }
 ],
 "metadata": {
  "kernelspec": {
   "display_name": "Python 3",
   "language": "python",
   "name": "python3"
  },
  "language_info": {
   "codemirror_mode": {
    "name": "ipython",
    "version": 3
   },
   "file_extension": ".py",
   "mimetype": "text/x-python",
   "name": "python",
   "nbconvert_exporter": "python",
   "pygments_lexer": "ipython3",
   "version": "3.6.4"
  }
 },
 "nbformat": 4,
 "nbformat_minor": 2
}
